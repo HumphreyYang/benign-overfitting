{
 "cells": [
  {
   "cell_type": "code",
   "execution_count": null,
   "metadata": {},
   "outputs": [],
   "source": [
    "import numpy as np\n",
    "import numba"
   ]
  },
  {
   "cell_type": "code",
   "execution_count": null,
   "metadata": {},
   "outputs": [],
   "source": [
    "@numba.njit(cache=True, fastmath=True, nogil=True)\n",
    "def compute_X(λ, μ, p, n, U, V, seed=None):\n",
    "    Λ = np.diag(np.concatenate((np.array([λ]), np.ones(p-1))))\n",
    "    C = (U @ Λ) @ U.T\n",
    "    A = np.diag(np.concatenate((np.array([μ]), np.ones(n-1))))\n",
    "    Γ = (V @ A) @ V.T\n",
    "    \n",
    "    if seed is not None:\n",
    "        np.random.seed(seed)\n",
    "        \n",
    "    Z = np.random.normal(0, 1, (n, p))\n",
    "    return Γ @ (Z @ C)\n",
    "\n",
    "@numba.njit(cache=True, fastmath=True, parallel=True, nogil=True)\n",
    "def scale_norm(X, out_norm):\n",
    "    if np.linalg.norm(X) == 0:\n",
    "        return X\n",
    "    norm_X = np.linalg.norm(X)\n",
    "    X_normalized = (out_norm / norm_X) * X\n",
    "    return X_normalized\n",
    "\n",
    "@numba.njit(cache=True, fastmath=True, nogil=True)\n",
    "def generate_orthonormal_matrix(dim, seed=None):\n",
    "    if seed is not None:\n",
    "        np.random.seed(seed)\n",
    "    a = np.random.randn(dim, dim)\n",
    "    res, _ = np.linalg.qr(a)\n",
    "    return np.ascontiguousarray(res)\n",
    "\n",
    "@numba.njit(cache=True, fastmath=True, nogil=True)\n",
    "def simulate_test_MSE(λ, μ, p, n, seed=None):\n",
    "    if seed is not None:\n",
    "        U = generate_orthonormal_matrix(p, seed=seed+1)\n",
    "        V = generate_orthonormal_matrix(n, seed=seed+2)\n",
    "    else:\n",
    "        U = generate_orthonormal_matrix(p)\n",
    "        V = generate_orthonormal_matrix(n)\n",
    "    \n",
    "    X = compute_X(λ, μ, p, n, U, V, seed)"
   ]
  }
 ],
 "metadata": {
  "language_info": {
   "name": "python"
  },
  "orig_nbformat": 4
 },
 "nbformat": 4,
 "nbformat_minor": 2
}
