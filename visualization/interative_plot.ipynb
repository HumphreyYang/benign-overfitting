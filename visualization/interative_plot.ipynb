{
 "cells": [
  {
   "cell_type": "code",
   "execution_count": 1,
   "id": "aa838634",
   "metadata": {},
   "outputs": [
    {
     "name": "stdout",
     "output_type": "stream",
     "text": [
      "Warning: Cannot change to a different GUI toolkit: ipympl. Using widget instead.\n"
     ]
    }
   ],
   "source": [
    "%matplotlib widget\n",
    "%matplotlib inline\n",
    "%matplotlib ipympl"
   ]
  },
  {
   "cell_type": "code",
   "execution_count": 3,
   "id": "f4edef2f-2ce4-42c9-9a59-0b409fdb9857",
   "metadata": {
    "tags": []
   },
   "outputs": [],
   "source": [
    "import pandas as pd\n",
    "from plotting_csv import *"
   ]
  },
  {
   "cell_type": "code",
   "execution_count": 4,
   "id": "f2992b15-5d70-40d6-bcda-9b504c29f636",
   "metadata": {
    "tags": []
   },
   "outputs": [
    {
     "data": {
      "application/vnd.jupyter.widget-view+json": {
       "model_id": "ba9ec7e496e84cb4bee4f415dad61945",
       "version_major": 2,
       "version_minor": 0
      },
      "text/plain": [
       "interactive(children=(FloatSlider(value=1.0, description='μ', max=20.0, min=1.0, step=0.38), FloatSlider(value…"
      ]
     },
     "execution_count": 4,
     "metadata": {},
     "output_type": "execute_result"
    }
   ],
   "source": [
    "file_name = '../results/R/results[2023-09-04 08:43:00]-105.csv'\n",
    "df = pd.read_csv(file_name)\n",
    "df.columns = ['λ','μ', \"p\", 'n', 'snr', 'MSE']\n",
    "df['γ'] = df['p'] / df['n']\n",
    "interative_bars_line(df)"
   ]
  },
  {
   "cell_type": "code",
   "execution_count": 5,
   "id": "abf27d9b-6674-46e1-811b-a9275d0daf06",
   "metadata": {},
   "outputs": [
    {
     "data": {
      "application/vnd.jupyter.widget-view+json": {
       "model_id": "45de70fab7ae43529cb5025eeb3a0b82",
       "version_major": 2,
       "version_minor": 0
      },
      "text/plain": [
       "interactive(children=(FloatSlider(value=1.0, description='μ', max=20.0, min=1.0, step=0.38), FloatSlider(value…"
      ]
     },
     "execution_count": 5,
     "metadata": {},
     "output_type": "execute_result"
    }
   ],
   "source": [
    "file_name = '../results/R/results[2023-09-03 23:42:33]-105.csv'\n",
    "df = pd.read_csv(file_name)\n",
    "df.columns = ['λ','μ', \"p\", 'n', 'snr', 'MSE']\n",
    "df['γ'] = df['p'] / df['n']\n",
    "interative_bars_line(df)"
   ]
  },
  {
   "cell_type": "code",
   "execution_count": 6,
   "id": "2af273e8-93d5-477f-84d6-ece35869911f",
   "metadata": {},
   "outputs": [
    {
     "data": {
      "application/vnd.jupyter.widget-view+json": {
       "model_id": "7100925bffd240758070fbdf3b523e63",
       "version_major": 2,
       "version_minor": 0
      },
      "text/plain": [
       "interactive(children=(FloatSlider(value=1.0, description='μ', max=20.0, min=1.0, step=0.38), FloatSlider(value…"
      ]
     },
     "execution_count": 6,
     "metadata": {},
     "output_type": "execute_result"
    }
   ],
   "source": [
    "file_name = '../results/Python/results_[02-09-2023_21:44:26-1525].csv'\n",
    "df = pd.read_csv(file_name)\n",
    "df.columns = ['λ','μ', \"p\", 'n', 'snr', 'MSE']\n",
    "df['γ'] = df['p'] / df['n']\n",
    "interative_bars_line(df)"
   ]
  },
  {
   "cell_type": "code",
   "execution_count": 7,
   "id": "2a11c838-7277-4345-bdc4-76e54ae1c3fb",
   "metadata": {},
   "outputs": [
    {
     "data": {
      "application/vnd.jupyter.widget-view+json": {
       "model_id": "2c596405550341c5ac837741de4807cf",
       "version_major": 2,
       "version_minor": 0
      },
      "text/plain": [
       "interactive(children=(FloatSlider(value=1.0, description='μ', max=20.0, min=1.0, step=0.38), FloatSlider(value…"
      ]
     },
     "execution_count": 7,
     "metadata": {},
     "output_type": "execute_result"
    }
   ],
   "source": [
    "file_name = '../results/Python/results_[03-09-2023_20:42:26-1525].csv'\n",
    "df = pd.read_csv(file_name)\n",
    "df.columns = ['λ','μ', \"p\", 'n', 'snr', 'MSE']\n",
    "df['γ'] = df['p'] / df['n']\n",
    "interative_bars_line(df)"
   ]
  }
 ],
 "metadata": {
  "kernelspec": {
   "display_name": "Python 3 (ipykernel)",
   "language": "python",
   "name": "python3"
  },
  "language_info": {
   "codemirror_mode": {
    "name": "ipython",
    "version": 3
   },
   "file_extension": ".py",
   "mimetype": "text/x-python",
   "name": "python",
   "nbconvert_exporter": "python",
   "pygments_lexer": "ipython3",
   "version": "3.9.16"
  }
 },
 "nbformat": 4,
 "nbformat_minor": 5
}
